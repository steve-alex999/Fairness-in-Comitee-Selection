{
 "cells": [
  {
   "cell_type": "code",
   "execution_count": null,
   "metadata": {},
   "outputs": [],
   "source": [
    "n = 100\n",
    "k = 10\n",
    "d = 5"
   ]
  },
  {
   "cell_type": "code",
   "execution_count": null,
   "metadata": {},
   "outputs": [],
   "source": [
    "def V_exclude(V, Ve):\n",
    "    list1 = [ele for ele in V if ele not in Ve]\n",
    "    return list1\n",
    "\n",
    "def cond1(V, C, l):\n",
    "    Ve = []\n",
    "    for v in V:\n",
    "        if len(C[v].intersection(W)) >= l:\n",
    "            Ve.append(v)\n",
    "    return Ve\n",
    "\n",
    "def star(V, CV, c_star):\n",
    "    V_star = []\n",
    "    for v in V:\n",
    "        flag = 0\n",
    "        for c1 in CV[v]:\n",
    "            if c1 == c_star:\n",
    "                flag = 1\n",
    "                break\n",
    "        if flag: \n",
    "            V_star.append(v)   \n",
    "    return V_star"
   ]
  },
  {
   "cell_type": "code",
   "execution_count": null,
   "metadata": {},
   "outputs": [],
   "source": [
    "def AV(CV, C, V):\n",
    "    # Ci[v] means list of candidates approved by v\n",
    "    total = -1000\n",
    "    c_star = \"\"\n",
    "    for c in C:\n",
    "        summ = 0\n",
    "        for v in V:\n",
    "            flag = 0\n",
    "            for c1 in CV[v]:\n",
    "                if c1 == c:\n",
    "                    flag = 1\n",
    "                    break\n",
    "            summ += flag\n",
    "        if summ > total:\n",
    "            c_star = c\n",
    "    return c_star"
   ]
  },
  {
   "cell_type": "code",
   "execution_count": null,
   "metadata": {},
   "outputs": [],
   "source": [
    "def JAV(C, V, k, CV):\n",
    "    W = []\n",
    "    n = \n",
    "    for l in range (1, k+1):\n",
    "        Ve = cond1(V, C, l)\n",
    "        V_prime = V_exclude(V, Ve)\n",
    "        c_star = AV(CV, C, V_prime)\n",
    "        W = W.append(c_star)\n",
    "        C = C.remove(c_star)\n",
    "        if len(C) == 0:\n",
    "            return W\n",
    "        while (len(W) < k and AV(CV, c_star, V_prime) >= l*n/k):\n",
    "            V_star = star(V, CV, c_star)\n",
    "            V_prime = V_exclude(V, V_star)\n",
    "            c_star = AV(CV, C, V_prime)\n",
    "            if AV(CV, c_star, V_prime) < l*n/k :\n",
    "                break\n",
    "            W = W.append(c_star)\n",
    "            C = C.remove(c_star)\n",
    "            if len(C) == 0:\n",
    "                return W\n",
    "        if len(W) == k:\n",
    "            return W"
   ]
  },
  {
   "cell_type": "code",
   "execution_count": null,
   "metadata": {},
   "outputs": [],
   "source": [
    "#O(mnkd)\n",
    "def remove(Votes,isVotes,voters,c,C,V,d):\n",
    "    for i in range(len(C)):\n",
    "        for j in range(d):\n",
    "            for v in voters:\n",
    "                if v in isVotes[i][j]:\n",
    "                    Votes[i][j] = Votes[i][j] - 1\n",
    "    C.remove(c)\n",
    "\n",
    "def GreedyApprovalVoting(C,V,k,Votes,is_Votes,d):\n",
    "    W = []\n",
    "    V_d = V\n",
    "    while len(W) < k:\n",
    "        c = \"\"\n",
    "        cur_max = -1\n",
    "        voters = {}\n",
    "        for i in range(len(C)):\n",
    "            sums = 0\n",
    "            for j in range(d):\n",
    "                sums += Votes[i][j]\n",
    "                voters = is_Votes[i][j]\n",
    "            if(sums > cur_max):\n",
    "                cur_max  = sums\n",
    "                c = C[i]\n",
    "        W.append(c)\n",
    "        remove(Votes,is_Votes,voters,c,C,V,d)\n",
    "        if(len(V_d)==0):\n",
    "            V_d = V\n",
    "    return W "
   ]
  },
  {
   "cell_type": "code",
   "execution_count": 7,
   "metadata": {},
   "outputs": [
    {
     "name": "stdout",
     "output_type": "stream",
     "text": [
      "{'a1': 3, 'a2': 1, 'z1': 2, 'z2': 1}\n"
     ]
    }
   ],
   "source": [
    "# def Sorted_Indices(W):\n",
    "#     frq = {}\n",
    "#     for c in C:\n",
    "#         frq[c]=0\n",
    "#     for w in W:\n",
    "#         for i in w:\n",
    "#             frq[i]+=1\n",
    "#     print(frq)\n",
    "\n",
    "def Sorted_Indices(W):\n",
    "    return sorted(W, key = lambda ele : len(ele), reverse = True)\n",
    "\n",
    "\n",
    "# def Select_Candidates(W,SI,C)\n",
    "#     W_final = []\n",
    "#     for j in range(0, d):\n",
    "#         for l in range (1, k+1):\n",
    "#             if len(SI[j]) >= l*n/k:\n",
    "#                 W_final = GreedyApprovalVoting(C,V,k,SI[j],SI[l-1],d)\n",
    " "
   ]
  },
  {
   "cell_type": "code",
   "execution_count": null,
   "metadata": {},
   "outputs": [],
   "source": [
    "def Select_Candidates(W,SI,C)\n",
    "    for l in range(1,k+1):\n",
    "        store = []\n",
    "        for si in SI:\n",
    "            for i in si:\n",
    "                if store.count(i) == 0: \n",
    "                    if votes[i] >= l*n/k:\n",
    "                        store.append(i)\n",
    "                    if len(store) == l:\n",
    "                        break\n",
    "        if C == 1:\n"
   ]
  },
  {
   "cell_type": "code",
   "execution_count": null,
   "metadata": {},
   "outputs": [],
   "source": [
    "def ALJAV():\n",
    "#     rows, cols = (d, k)\n",
    "#     W = [[0]*cols]*rows\n",
    "    W = []\n",
    "    for j in range(1, d+1):\n",
    "        W.append(JAV())\n",
    "    SI = Sorted_Indices(W)\n",
    "    W = Select_Candidates(W,SI,C)\n",
    "    return W"
   ]
  },
  {
   "cell_type": "code",
   "execution_count": null,
   "metadata": {},
   "outputs": [],
   "source": []
  },
  {
   "cell_type": "code",
   "execution_count": null,
   "metadata": {},
   "outputs": [],
   "source": []
  },
  {
   "cell_type": "code",
   "execution_count": null,
   "metadata": {},
   "outputs": [],
   "source": []
  },
  {
   "cell_type": "code",
   "execution_count": null,
   "metadata": {},
   "outputs": [],
   "source": []
  },
  {
   "cell_type": "code",
   "execution_count": null,
   "metadata": {},
   "outputs": [],
   "source": []
  },
  {
   "cell_type": "code",
   "execution_count": null,
   "metadata": {},
   "outputs": [],
   "source": []
  }
 ],
 "metadata": {
  "kernelspec": {
   "display_name": "Python 3",
   "language": "python",
   "name": "python3"
  },
  "language_info": {
   "codemirror_mode": {
    "name": "ipython",
    "version": 3
   },
   "file_extension": ".py",
   "mimetype": "text/x-python",
   "name": "python",
   "nbconvert_exporter": "python",
   "pygments_lexer": "ipython3",
   "version": "3.8.3"
  }
 },
 "nbformat": 4,
 "nbformat_minor": 4
}
